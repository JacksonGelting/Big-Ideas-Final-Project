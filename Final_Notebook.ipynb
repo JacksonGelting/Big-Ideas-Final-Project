{
 "cells": [
  {
   "cell_type": "code",
   "execution_count": 34,
   "metadata": {},
   "outputs": [],
   "source": [
    "import pandas as pd\n",
    "\n",
    "# import individual rankings\n",
    "colin = pd.read_csv(\"Colin Education/Colin-ranking.csv\")\n",
    "jackson = pd.read_csv(\"Jacksons Walkability/Jackson-ranking.csv\")\n",
    "slifer = pd.read_csv(\"Slifer Median Lifespan/Slifer-ranking.csv\")\n",
    "conor = pd.read_csv(\"Conor Housing/Conor-ranking.csv\")"
   ]
  },
  {
   "cell_type": "code",
   "execution_count": 35,
   "metadata": {},
   "outputs": [],
   "source": [
    "# weights\n",
    "weights = [0.5, 1.0, 1.0, 1.5]\n",
    "\n",
    "# scale up scores by weights(smaller weights are better)\n",
    "colin['RANK'] = colin['RANK'].multiply(weights[0])\n",
    "jackson['RANK'] = jackson['RANK'].multiply(weights[1])\n",
    "slifer['RANK'] = slifer['RANK'].multiply(weights[2])\n",
    "conor['RANK'] = conor['RANK'].multiply(weights[3])"
   ]
  },
  {
   "cell_type": "code",
   "execution_count": 37,
   "metadata": {},
   "outputs": [
    {
     "name": "stdout",
     "output_type": "stream",
     "text": [
      "1: North Oakland\n",
      "2: Central Oakland\n",
      "3: Shadyside\n",
      "4: Friendship\n",
      "5: Squirrel Hill North\n",
      "6: Squirrel Hill South\n",
      "7: Point Breeze\n",
      "8: Bloomfield\n",
      "9: South Oakland\n",
      "10: Crawford-Roberts\n"
     ]
    }
   ],
   "source": [
    "scaledRanks = dict()\n",
    "\n",
    "for index, rank, neighborhood in jackson.itertuples():\n",
    "    scaledRanks[neighborhood] = rank\n",
    "\n",
    "for index, rank, neighborhood in colin.itertuples():\n",
    "    if(neighborhood in scaledRanks.keys()):\n",
    "        scaledRanks[neighborhood] += rank\n",
    "\n",
    "for index, rank, neighborhood in slifer.itertuples():\n",
    "    if(neighborhood in scaledRanks.keys()):\n",
    "        scaledRanks[neighborhood] += rank\n",
    "\n",
    "for index, rank, neighborhood in conor.itertuples():\n",
    "    if(neighborhood in scaledRanks.keys()):\n",
    "        scaledRanks[neighborhood] += rank\n",
    "\n",
    "scaledRanks = dict(sorted(scaledRanks.items(), key=lambda x:x[1]))\n",
    "\n",
    "for i in range(10):\n",
    "    print(f\"{i+1}: {list(scaledRanks.keys())[i]}\")"
   ]
  },
  {
   "attachments": {},
   "cell_type": "markdown",
   "metadata": {},
   "source": [
    "1. North Oakland\n",
    "2. Central Oakland\n",
    "3. Shadyside\n",
    "4. Friendship\n",
    "5. Squirrel Hill North\n",
    "6. Squirrel Hill South\n",
    "7. Point Breeze\n",
    "8. Bloomfield\n",
    "9. South Oakland\n",
    "10. Crawford-Roberts"
   ]
  }
 ],
 "metadata": {
  "language_info": {
   "name": "python"
  },
  "orig_nbformat": 4
 },
 "nbformat": 4,
 "nbformat_minor": 2
}
