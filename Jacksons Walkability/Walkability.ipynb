{
 "cells": [
  {
   "cell_type": "code",
   "execution_count": 75,
   "metadata": {},
   "outputs": [
    {
     "data": {
      "text/plain": [
       "<matplotlib.axes._subplots.AxesSubplot at 0x7fc745ac1520>"
      ]
     },
     "execution_count": 75,
     "metadata": {},
     "output_type": "execute_result"
    },
    {
     "data": {
      "image/png": "[encoded data removed]",
      "text/plain": [
       "<Figure size 432x288 with 1 Axes>"
      ]
     },
     "metadata": {
      "needs_background": "light"
     },
     "output_type": "display_data"
    }
   ],
   "source": [
    "import pandas as pd\n",
    "import numpy as np\n",
    "\n",
    "%matplotlib inline\n",
    "import matplotlib.pyplot as plt\n",
    "plt.rcParams['font.size'] = 7\n",
    "#ct = pd.read_csv(\"ct.csv\")\n",
    "blks = pd.read_csv(\"blocks.csv\")\n",
    "wd = pd.read_csv(\"walkscores.csv\")\n",
    "blks = blks.filter(items=[\"TRACT\", \"BLKGRP\", \"Neighborhood\" ])\n",
    "\n",
    "data = ({\n",
    "    'Neighborhood':[],\n",
    "    'Walk_Score':[]\n",
    "})\n",
    "\n",
    "df = pd.DataFrame(data)\n",
    "#print(df)\n",
    "\n",
    "\n",
    "def AvgOut(df):\n",
    "    lookup = [\"\"]\n",
    "    hood = \"\"\n",
    "    data = ({\n",
    "    'Neighborhood':[],\n",
    "    'Walk_Score':[]\n",
    "    })\n",
    "    #hd = pd.DataFrame(columns = [\"Neighborhood\", \"Walk_Score\"])\n",
    "    \n",
    "    hd = pd.DataFrame(data)\n",
    "    for row in df.itertuples():\n",
    "        hood = row[1]\n",
    "        score = row[2];\n",
    "       # print(\"this is the row\" + hood)\n",
    "        \n",
    "        for value in df.itertuples():\n",
    "            if(value[1] == row[1]):\n",
    "                avg = (value[2] + row[2])/2\n",
    "                score = (score + avg)/2\n",
    "        \n",
    "        list = [hood, score]\n",
    "        \n",
    "        if hood not in lookup:\n",
    "            hd.loc[len(hd)] = list\n",
    "   \n",
    "        lookup.append(hood)\n",
    "        \n",
    "    return hd\n",
    "\n",
    "def TractToHood(tracts, hoods):\n",
    "    columns = [\"Census_Tract\", \"Walk_Scores\"]\n",
    "    \n",
    "    id = tracts\n",
    "    name = \"\"\n",
    "   \n",
    "    for row in hoods.itertuples():\n",
    "        if row[1] == id:\n",
    "            name = row[3]\n",
    "    return name\n",
    "    \n",
    "wd[\"Census_Tract\"] = wd.Census_Tract.apply(TractToHood, hoods=blks)\n",
    "\n",
    "\n",
    "wd = wd[wd.Census_Tract != \"\"]\n",
    "wd = wd.sort_values(\"Walk_Score\")\n",
    "\n",
    "#wd.head(25).plot.bar(x=\"Census_Tract\", y=\"Walk_Score\")\n",
    "#wd.tail(100).plot.bar(x=\"Census_Tract\", y=\"Walk_Score\")\n",
    "\n",
    "#print(wd)\n",
    "#print(wd.Walk_Score.describe())\n",
    "\n",
    "avgWalk = AvgOut(wd)\n",
    "#print(avgWalk.tail(100))\n",
    "avgWalk = avgWalk.sort_values(\"Walk_Score\")\n",
    "\n",
    "avgWalk.head(25).plot.bar(x=\"Neighborhood\", y=\"Walk_Score\")\n",
    "\n",
    "\n",
    "\n",
    "\n",
    "\n",
    "\n",
    "\n",
    "\n"
   ]
  },
  {
   "cell_type": "markdown",
   "metadata": {},
   "source": [
    "## Walkability\n",
    "\n",
    "The data on this page is adapted from the Allegheny County walk scores database and Pittsburgh 2010 census track data both from WPRDC\n",
    "The walk scores came in a two collumn csv with census tracts and walk scores. i had to create a map function to translate those census tracts into neighborhoods using the 2010 census track data. after this i was able to present the data as shown. \n",
    "\n",
    "analyzing the data i beleive that this will not be one of out leading metrics and will be best suited for comparing againsts other high ranking neighborhoods from my partners metrics. i think this becasue one, seeing how the strip district is the highest score, i think that the compounding variables of being in a commerical district are significant, but controlled if used in context of other metrics. and two, the census tracts are not a true 1 to 1 of neighborhood, this leads to seemingly duplicate entries in the final data but this is simply becasue multiple tracts can exist in one neighborhood, so it will be best to use walk scores to more so differentiate other high metric neighborhoods. \n",
    "\n",
    "# statistics\n",
    "we can generate descriptive statistics on the walk score to gain a general understanding of pittsburghs walkability\n",
    "* mean : 59.4\n",
    "* std  : 19.78\n",
    "* min  : 20.0\n",
    "* 25%  : 43.0\n",
    "* 75%  : 76.0 \n",
    "* max  : 100.0"
   ]
  },
  {
   "cell_type": "code",
   "execution_count": null,
   "metadata": {},
   "outputs": [],
   "source": []
  }
 ],
 "metadata": {
  "kernelspec": {
   "display_name": "Python 3",
   "language": "python",
   "name": "python3"
  },
  "language_info": {
   "codemirror_mode": {
    "name": "ipython",
    "version": 3
   },
   "file_extension": ".py",
   "mimetype": "text/x-python",
   "name": "python",
   "nbconvert_exporter": "python",
   "pygments_lexer": "ipython3",
   "version": "3.8.3"
  }
 },
 "nbformat": 4,
 "nbformat_minor": 4
}
