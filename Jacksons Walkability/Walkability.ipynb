{
 "cells": [
  {
   "cell_type": "code",
   "execution_count": 35,
   "metadata": {},
   "outputs": [],
   "source": [
    "import pandas as pd\n",
    "import numpy as np\n",
    "\n",
    "%matplotlib inline\n",
    "import matplotlib.pyplot as plt\n",
    "plt.rcParams['font.size'] = 10"
   ]
  },
  {
   "cell_type": "markdown",
   "metadata": {},
   "source": [
    "I begin by importing the needed Python Libraries and setting my plot font size"
   ]
  },
  {
   "cell_type": "code",
   "execution_count": 36,
   "metadata": {},
   "outputs": [],
   "source": [
    "blks = pd.read_csv(\"blocks.csv\")\n",
    "wd = pd.read_csv(\"walkscores.csv\")"
   ]
  },
  {
   "cell_type": "markdown",
   "metadata": {},
   "source": [
    "Then i read in the two data sets i will be needing"
   ]
  },
  {
   "cell_type": "code",
   "execution_count": 37,
   "metadata": {},
   "outputs": [
    {
     "data": {
      "text/html": [
       "<div>\n",
       "<style scoped>\n",
       "    .dataframe tbody tr th:only-of-type {\n",
       "        vertical-align: middle;\n",
       "    }\n",
       "\n",
       "    .dataframe tbody tr th {\n",
       "        vertical-align: top;\n",
       "    }\n",
       "\n",
       "    .dataframe thead th {\n",
       "        text-align: right;\n",
       "    }\n",
       "</style>\n",
       "<table border=\"1\" class=\"dataframe\">\n",
       "  <thead>\n",
       "    <tr style=\"text-align: right;\">\n",
       "      <th></th>\n",
       "      <th>Census_Tract</th>\n",
       "      <th>Walk_Score</th>\n",
       "    </tr>\n",
       "  </thead>\n",
       "  <tbody>\n",
       "    <tr>\n",
       "      <th>0</th>\n",
       "      <td>10300</td>\n",
       "      <td>82</td>\n",
       "    </tr>\n",
       "    <tr>\n",
       "      <th>1</th>\n",
       "      <td>20100</td>\n",
       "      <td>100</td>\n",
       "    </tr>\n",
       "    <tr>\n",
       "      <th>2</th>\n",
       "      <td>20300</td>\n",
       "      <td>83</td>\n",
       "    </tr>\n",
       "    <tr>\n",
       "      <th>3</th>\n",
       "      <td>30500</td>\n",
       "      <td>77</td>\n",
       "    </tr>\n",
       "    <tr>\n",
       "      <th>4</th>\n",
       "      <td>40200</td>\n",
       "      <td>71</td>\n",
       "    </tr>\n",
       "  </tbody>\n",
       "</table>\n",
       "</div>"
      ],
      "text/plain": [
       "   Census_Tract  Walk_Score\n",
       "0         10300          82\n",
       "1         20100         100\n",
       "2         20300          83\n",
       "3         30500          77\n",
       "4         40200          71"
      ]
     },
     "execution_count": 37,
     "metadata": {},
     "output_type": "execute_result"
    }
   ],
   "source": [
    "wd.head(5)"
   ]
  },
  {
   "cell_type": "code",
   "execution_count": 38,
   "metadata": {},
   "outputs": [
    {
     "data": {
      "text/html": [
       "<div>\n",
       "<style scoped>\n",
       "    .dataframe tbody tr th:only-of-type {\n",
       "        vertical-align: middle;\n",
       "    }\n",
       "\n",
       "    .dataframe tbody tr th {\n",
       "        vertical-align: top;\n",
       "    }\n",
       "\n",
       "    .dataframe thead th {\n",
       "        text-align: right;\n",
       "    }\n",
       "</style>\n",
       "<table border=\"1\" class=\"dataframe\">\n",
       "  <thead>\n",
       "    <tr style=\"text-align: right;\">\n",
       "      <th></th>\n",
       "      <th>SUMLEV</th>\n",
       "      <th>COUNTY</th>\n",
       "      <th>COUSUB</th>\n",
       "      <th>TRACT</th>\n",
       "      <th>BLKGRP</th>\n",
       "      <th>BLOCK</th>\n",
       "      <th>NAME</th>\n",
       "      <th>geoid20</th>\n",
       "      <th>Neighborhood</th>\n",
       "      <th>NeighborhoodGroup</th>\n",
       "    </tr>\n",
       "  </thead>\n",
       "  <tbody>\n",
       "    <tr>\n",
       "      <th>0</th>\n",
       "      <td>750.0</td>\n",
       "      <td>3</td>\n",
       "      <td>61000</td>\n",
       "      <td>562700</td>\n",
       "      <td>2</td>\n",
       "      <td>2000</td>\n",
       "      <td>Block 2000</td>\n",
       "      <td>420035627002000</td>\n",
       "      <td>Allegheny Center</td>\n",
       "      <td>Allegheny Center</td>\n",
       "    </tr>\n",
       "    <tr>\n",
       "      <th>1</th>\n",
       "      <td>750.0</td>\n",
       "      <td>3</td>\n",
       "      <td>61000</td>\n",
       "      <td>562700</td>\n",
       "      <td>2</td>\n",
       "      <td>2001</td>\n",
       "      <td>Block 2001</td>\n",
       "      <td>420035627002001</td>\n",
       "      <td>Allegheny Center</td>\n",
       "      <td>Allegheny Center</td>\n",
       "    </tr>\n",
       "    <tr>\n",
       "      <th>2</th>\n",
       "      <td>750.0</td>\n",
       "      <td>3</td>\n",
       "      <td>61000</td>\n",
       "      <td>562700</td>\n",
       "      <td>2</td>\n",
       "      <td>2002</td>\n",
       "      <td>Block 2002</td>\n",
       "      <td>420035627002002</td>\n",
       "      <td>Allegheny Center</td>\n",
       "      <td>Allegheny Center</td>\n",
       "    </tr>\n",
       "    <tr>\n",
       "      <th>3</th>\n",
       "      <td>750.0</td>\n",
       "      <td>3</td>\n",
       "      <td>61000</td>\n",
       "      <td>562700</td>\n",
       "      <td>2</td>\n",
       "      <td>2003</td>\n",
       "      <td>Block 2003</td>\n",
       "      <td>420035627002003</td>\n",
       "      <td>Allegheny Center</td>\n",
       "      <td>Allegheny Center</td>\n",
       "    </tr>\n",
       "    <tr>\n",
       "      <th>4</th>\n",
       "      <td>750.0</td>\n",
       "      <td>3</td>\n",
       "      <td>61000</td>\n",
       "      <td>562700</td>\n",
       "      <td>2</td>\n",
       "      <td>2004</td>\n",
       "      <td>Block 2004</td>\n",
       "      <td>420035627002004</td>\n",
       "      <td>Allegheny Center</td>\n",
       "      <td>Allegheny Center</td>\n",
       "    </tr>\n",
       "  </tbody>\n",
       "</table>\n",
       "</div>"
      ],
      "text/plain": [
       "   SUMLEV  COUNTY  COUSUB   TRACT  BLKGRP  BLOCK        NAME          geoid20   \n",
       "0   750.0       3   61000  562700       2   2000  Block 2000  420035627002000  \\\n",
       "1   750.0       3   61000  562700       2   2001  Block 2001  420035627002001   \n",
       "2   750.0       3   61000  562700       2   2002  Block 2002  420035627002002   \n",
       "3   750.0       3   61000  562700       2   2003  Block 2003  420035627002003   \n",
       "4   750.0       3   61000  562700       2   2004  Block 2004  420035627002004   \n",
       "\n",
       "       Neighborhood NeighborhoodGroup  \n",
       "0  Allegheny Center  Allegheny Center  \n",
       "1  Allegheny Center  Allegheny Center  \n",
       "2  Allegheny Center  Allegheny Center  \n",
       "3  Allegheny Center  Allegheny Center  \n",
       "4  Allegheny Center  Allegheny Center  "
      ]
     },
     "execution_count": 38,
     "metadata": {},
     "output_type": "execute_result"
    }
   ],
   "source": [
    "blks.head(5)"
   ]
  },
  {
   "cell_type": "markdown",
   "metadata": {},
   "source": [
    "My main data of focus is the walk scores in wd, but they are organized by census tract, because we want neighborhoods the data is going to have to be modified\n",
    "\n",
    "That is what the blks data set is for, but right now there is too much data "
   ]
  },
  {
   "cell_type": "code",
   "execution_count": 39,
   "metadata": {},
   "outputs": [
    {
     "data": {
      "text/html": [
       "<div>\n",
       "<style scoped>\n",
       "    .dataframe tbody tr th:only-of-type {\n",
       "        vertical-align: middle;\n",
       "    }\n",
       "\n",
       "    .dataframe tbody tr th {\n",
       "        vertical-align: top;\n",
       "    }\n",
       "\n",
       "    .dataframe thead th {\n",
       "        text-align: right;\n",
       "    }\n",
       "</style>\n",
       "<table border=\"1\" class=\"dataframe\">\n",
       "  <thead>\n",
       "    <tr style=\"text-align: right;\">\n",
       "      <th></th>\n",
       "      <th>TRACT</th>\n",
       "      <th>BLKGRP</th>\n",
       "      <th>Neighborhood</th>\n",
       "    </tr>\n",
       "  </thead>\n",
       "  <tbody>\n",
       "    <tr>\n",
       "      <th>0</th>\n",
       "      <td>562700</td>\n",
       "      <td>2</td>\n",
       "      <td>Allegheny Center</td>\n",
       "    </tr>\n",
       "    <tr>\n",
       "      <th>1</th>\n",
       "      <td>562700</td>\n",
       "      <td>2</td>\n",
       "      <td>Allegheny Center</td>\n",
       "    </tr>\n",
       "    <tr>\n",
       "      <th>2</th>\n",
       "      <td>562700</td>\n",
       "      <td>2</td>\n",
       "      <td>Allegheny Center</td>\n",
       "    </tr>\n",
       "    <tr>\n",
       "      <th>3</th>\n",
       "      <td>562700</td>\n",
       "      <td>2</td>\n",
       "      <td>Allegheny Center</td>\n",
       "    </tr>\n",
       "    <tr>\n",
       "      <th>4</th>\n",
       "      <td>562700</td>\n",
       "      <td>2</td>\n",
       "      <td>Allegheny Center</td>\n",
       "    </tr>\n",
       "  </tbody>\n",
       "</table>\n",
       "</div>"
      ],
      "text/plain": [
       "    TRACT  BLKGRP      Neighborhood\n",
       "0  562700       2  Allegheny Center\n",
       "1  562700       2  Allegheny Center\n",
       "2  562700       2  Allegheny Center\n",
       "3  562700       2  Allegheny Center\n",
       "4  562700       2  Allegheny Center"
      ]
     },
     "execution_count": 39,
     "metadata": {},
     "output_type": "execute_result"
    }
   ],
   "source": [
    "blks = blks.filter(items=[\"TRACT\", \"BLKGRP\", \"Neighborhood\" ])\n",
    "blks.head(5)"
   ]
  },
  {
   "cell_type": "markdown",
   "metadata": {},
   "source": [
    "This is much better, now we can focus on translating census track to a neighborhoods\n",
    "But to do this we will need to do some work"
   ]
  },
  {
   "cell_type": "code",
   "execution_count": 40,
   "metadata": {},
   "outputs": [],
   "source": [
    "def TractToHood(tracts, hoods):\n",
    "    columns = [\"Census_Tract\", \"Walk_Scores\"]\n",
    "    \n",
    "    id = tracts\n",
    "    name = \"\"\n",
    "   \n",
    "    for row in hoods.itertuples():\n",
    "        if row[1] == id:\n",
    "            name = row[3]\n",
    "    return name\n",
    "    "
   ]
  },
  {
   "cell_type": "markdown",
   "metadata": {},
   "source": [
    "This will be our function that translates the tract values to a neighborhood. it will be used as a map function on the dataframe."
   ]
  },
  {
   "cell_type": "code",
   "execution_count": 41,
   "metadata": {},
   "outputs": [
    {
     "data": {
      "text/html": [
       "<div>\n",
       "<style scoped>\n",
       "    .dataframe tbody tr th:only-of-type {\n",
       "        vertical-align: middle;\n",
       "    }\n",
       "\n",
       "    .dataframe tbody tr th {\n",
       "        vertical-align: top;\n",
       "    }\n",
       "\n",
       "    .dataframe thead th {\n",
       "        text-align: right;\n",
       "    }\n",
       "</style>\n",
       "<table border=\"1\" class=\"dataframe\">\n",
       "  <thead>\n",
       "    <tr style=\"text-align: right;\">\n",
       "      <th></th>\n",
       "      <th>Census_Tract</th>\n",
       "      <th>Walk_Score</th>\n",
       "    </tr>\n",
       "  </thead>\n",
       "  <tbody>\n",
       "    <tr>\n",
       "      <th>1</th>\n",
       "      <td>Strip District</td>\n",
       "      <td>100</td>\n",
       "    </tr>\n",
       "    <tr>\n",
       "      <th>2</th>\n",
       "      <td>Strip District</td>\n",
       "      <td>83</td>\n",
       "    </tr>\n",
       "    <tr>\n",
       "      <th>3</th>\n",
       "      <td>Crawford-Roberts</td>\n",
       "      <td>77</td>\n",
       "    </tr>\n",
       "    <tr>\n",
       "      <th>4</th>\n",
       "      <td>West Oakland</td>\n",
       "      <td>71</td>\n",
       "    </tr>\n",
       "    <tr>\n",
       "      <th>5</th>\n",
       "      <td>North Oakland</td>\n",
       "      <td>82</td>\n",
       "    </tr>\n",
       "  </tbody>\n",
       "</table>\n",
       "</div>"
      ],
      "text/plain": [
       "       Census_Tract  Walk_Score\n",
       "1    Strip District         100\n",
       "2    Strip District          83\n",
       "3  Crawford-Roberts          77\n",
       "4      West Oakland          71\n",
       "5     North Oakland          82"
      ]
     },
     "execution_count": 41,
     "metadata": {},
     "output_type": "execute_result"
    }
   ],
   "source": [
    "wd[\"Census_Tract\"] = wd.Census_Tract.apply(TractToHood, hoods=blks)\n",
    "\n",
    "\n",
    "wd = wd[wd.Census_Tract != \"\"]\n",
    "\n",
    "wd.head(5)"
   ]
  },
  {
   "cell_type": "code",
   "execution_count": 42,
   "metadata": {},
   "outputs": [
    {
     "data": {
      "text/html": [
       "<div>\n",
       "<style scoped>\n",
       "    .dataframe tbody tr th:only-of-type {\n",
       "        vertical-align: middle;\n",
       "    }\n",
       "\n",
       "    .dataframe tbody tr th {\n",
       "        vertical-align: top;\n",
       "    }\n",
       "\n",
       "    .dataframe thead th {\n",
       "        text-align: right;\n",
       "    }\n",
       "</style>\n",
       "<table border=\"1\" class=\"dataframe\">\n",
       "  <thead>\n",
       "    <tr style=\"text-align: right;\">\n",
       "      <th></th>\n",
       "      <th>Census_Tract</th>\n",
       "      <th>Walk_Score</th>\n",
       "    </tr>\n",
       "  </thead>\n",
       "  <tbody>\n",
       "    <tr>\n",
       "      <th>24</th>\n",
       "      <td>Friendship</td>\n",
       "      <td>86</td>\n",
       "    </tr>\n",
       "    <tr>\n",
       "      <th>22</th>\n",
       "      <td>Bloomfield</td>\n",
       "      <td>86</td>\n",
       "    </tr>\n",
       "    <tr>\n",
       "      <th>15</th>\n",
       "      <td>Polish Hill</td>\n",
       "      <td>88</td>\n",
       "    </tr>\n",
       "    <tr>\n",
       "      <th>55</th>\n",
       "      <td>Squirrel Hill South</td>\n",
       "      <td>88</td>\n",
       "    </tr>\n",
       "    <tr>\n",
       "      <th>17</th>\n",
       "      <td>Shadyside</td>\n",
       "      <td>88</td>\n",
       "    </tr>\n",
       "    <tr>\n",
       "      <th>19</th>\n",
       "      <td>Shadyside</td>\n",
       "      <td>88</td>\n",
       "    </tr>\n",
       "    <tr>\n",
       "      <th>20</th>\n",
       "      <td>Shadyside</td>\n",
       "      <td>89</td>\n",
       "    </tr>\n",
       "    <tr>\n",
       "      <th>14</th>\n",
       "      <td>Lower Lawrenceville</td>\n",
       "      <td>91</td>\n",
       "    </tr>\n",
       "    <tr>\n",
       "      <th>16</th>\n",
       "      <td>Shadyside</td>\n",
       "      <td>91</td>\n",
       "    </tr>\n",
       "    <tr>\n",
       "      <th>1</th>\n",
       "      <td>Strip District</td>\n",
       "      <td>100</td>\n",
       "    </tr>\n",
       "  </tbody>\n",
       "</table>\n",
       "</div>"
      ],
      "text/plain": [
       "           Census_Tract  Walk_Score\n",
       "24           Friendship          86\n",
       "22           Bloomfield          86\n",
       "15          Polish Hill          88\n",
       "55  Squirrel Hill South          88\n",
       "17            Shadyside          88\n",
       "19            Shadyside          88\n",
       "20            Shadyside          89\n",
       "14  Lower Lawrenceville          91\n",
       "16            Shadyside          91\n",
       "1        Strip District         100"
      ]
     },
     "execution_count": 42,
     "metadata": {},
     "output_type": "execute_result"
    }
   ],
   "source": [
    "wd = wd.sort_values(\"Walk_Score\")\n",
    "wd.tail(10)"
   ]
  },
  {
   "cell_type": "markdown",
   "metadata": {},
   "source": [
    "Now that we translated the tracts we can see an issue with duplicates. This is becasue tracts are smaller than neighborhoods so there can be multiple for a single neighborhood. \n",
    "We can solve this will a slightly more complicated function that will return a new dataframe that has unique neighborhoods with a walkscore of the average of other entries under the same neighborhood."
   ]
  },
  {
   "cell_type": "code",
   "execution_count": 43,
   "metadata": {},
   "outputs": [
    {
     "data": {
      "text/html": [
       "<div>\n",
       "<style scoped>\n",
       "    .dataframe tbody tr th:only-of-type {\n",
       "        vertical-align: middle;\n",
       "    }\n",
       "\n",
       "    .dataframe tbody tr th {\n",
       "        vertical-align: top;\n",
       "    }\n",
       "\n",
       "    .dataframe thead th {\n",
       "        text-align: right;\n",
       "    }\n",
       "</style>\n",
       "<table border=\"1\" class=\"dataframe\">\n",
       "  <thead>\n",
       "    <tr style=\"text-align: right;\">\n",
       "      <th></th>\n",
       "      <th>Neighborhood</th>\n",
       "      <th>Walk_Score</th>\n",
       "    </tr>\n",
       "  </thead>\n",
       "  <tbody>\n",
       "    <tr>\n",
       "      <th>53</th>\n",
       "      <td>Crawford-Roberts</td>\n",
       "      <td>77.000000</td>\n",
       "    </tr>\n",
       "    <tr>\n",
       "      <th>49</th>\n",
       "      <td>South Side Flats</td>\n",
       "      <td>77.500000</td>\n",
       "    </tr>\n",
       "    <tr>\n",
       "      <th>47</th>\n",
       "      <td>North Oakland</td>\n",
       "      <td>77.625000</td>\n",
       "    </tr>\n",
       "    <tr>\n",
       "      <th>51</th>\n",
       "      <td>Shadyside</td>\n",
       "      <td>83.171875</td>\n",
       "    </tr>\n",
       "    <tr>\n",
       "      <th>54</th>\n",
       "      <td>Bloomfield</td>\n",
       "      <td>83.750000</td>\n",
       "    </tr>\n",
       "    <tr>\n",
       "      <th>56</th>\n",
       "      <td>Allegheny West</td>\n",
       "      <td>86.000000</td>\n",
       "    </tr>\n",
       "    <tr>\n",
       "      <th>57</th>\n",
       "      <td>Friendship</td>\n",
       "      <td>86.000000</td>\n",
       "    </tr>\n",
       "    <tr>\n",
       "      <th>55</th>\n",
       "      <td>Strip District</td>\n",
       "      <td>87.250000</td>\n",
       "    </tr>\n",
       "    <tr>\n",
       "      <th>58</th>\n",
       "      <td>Polish Hill</td>\n",
       "      <td>88.000000</td>\n",
       "    </tr>\n",
       "    <tr>\n",
       "      <th>59</th>\n",
       "      <td>Lower Lawrenceville</td>\n",
       "      <td>91.000000</td>\n",
       "    </tr>\n",
       "  </tbody>\n",
       "</table>\n",
       "</div>"
      ],
      "text/plain": [
       "           Neighborhood  Walk_Score\n",
       "53     Crawford-Roberts   77.000000\n",
       "49     South Side Flats   77.500000\n",
       "47        North Oakland   77.625000\n",
       "51            Shadyside   83.171875\n",
       "54           Bloomfield   83.750000\n",
       "56       Allegheny West   86.000000\n",
       "57           Friendship   86.000000\n",
       "55       Strip District   87.250000\n",
       "58          Polish Hill   88.000000\n",
       "59  Lower Lawrenceville   91.000000"
      ]
     },
     "execution_count": 43,
     "metadata": {},
     "output_type": "execute_result"
    }
   ],
   "source": [
    "def AvgOut(df):\n",
    "    lookup = [\"\"]\n",
    "    hood = \"\"\n",
    "    data = ({\n",
    "    'Neighborhood':[],\n",
    "    'Walk_Score':[]\n",
    "    })\n",
    "    #hd = pd.DataFrame(columns = [\"Neighborhood\", \"Walk_Score\"])\n",
    "    \n",
    "    hd = pd.DataFrame(data)\n",
    "    for row in df.itertuples():\n",
    "        hood = row[1]\n",
    "        score = row[2];\n",
    "       # print(\"this is the row\" + hood)\n",
    "        \n",
    "        for value in df.itertuples():\n",
    "            if(value[1] == row[1]):\n",
    "                avg = (value[2] + row[2])/2\n",
    "                score = (score + avg)/2\n",
    "        \n",
    "        list = [hood, score]\n",
    "        \n",
    "        if hood not in lookup:\n",
    "            hd.loc[len(hd)] = list\n",
    "   \n",
    "        lookup.append(hood)\n",
    "        \n",
    "    return hd\n",
    "\n",
    "avgWalk = AvgOut(wd)\n",
    "\n",
    "\n",
    "\n",
    "avgWalk = avgWalk.sort_values(\"Walk_Score\")\n",
    "avgWalk.tail(10)"
   ]
  },
  {
   "cell_type": "markdown",
   "metadata": {},
   "source": [
    "Now our data is catagorized by neighborhood and representative of all the tracts described under the lable. we can graph the tail of our data to visually see the winners"
   ]
  },
  {
   "cell_type": "code",
   "execution_count": 44,
   "metadata": {},
   "outputs": [
    {
     "data": {
      "text/plain": [
       "<Axes: xlabel='Neighborhood'>"
      ]
     },
     "execution_count": 44,
     "metadata": {},
     "output_type": "execute_result"
    },
    {
     "data": {
      "image/png": "[encoded data removed]",
      "text/plain": [
       "<Figure size 1000x600 with 1 Axes>"
      ]
     },
     "metadata": {},
     "output_type": "display_data"
    }
   ],
   "source": [
    "avgWalk.tail(15).plot.bar(x=\"Neighborhood\", y=\"Walk_Score\",figsize=(10, 6) )"
   ]
  },
  {
   "cell_type": "markdown",
   "metadata": {},
   "source": [
    "The top contenders are all close in average walk scores. but by this data the top 5 neighborhoods for walkability are"
   ]
  },
  {
   "cell_type": "code",
   "execution_count": 45,
   "metadata": {},
   "outputs": [
    {
     "data": {
      "text/html": [
       "<div>\n",
       "<style scoped>\n",
       "    .dataframe tbody tr th:only-of-type {\n",
       "        vertical-align: middle;\n",
       "    }\n",
       "\n",
       "    .dataframe tbody tr th {\n",
       "        vertical-align: top;\n",
       "    }\n",
       "\n",
       "    .dataframe thead th {\n",
       "        text-align: right;\n",
       "    }\n",
       "</style>\n",
       "<table border=\"1\" class=\"dataframe\">\n",
       "  <thead>\n",
       "    <tr style=\"text-align: right;\">\n",
       "      <th></th>\n",
       "      <th>Neighborhood</th>\n",
       "      <th>Walk_Score</th>\n",
       "    </tr>\n",
       "  </thead>\n",
       "  <tbody>\n",
       "    <tr>\n",
       "      <th>56</th>\n",
       "      <td>Allegheny West</td>\n",
       "      <td>86.00</td>\n",
       "    </tr>\n",
       "    <tr>\n",
       "      <th>57</th>\n",
       "      <td>Friendship</td>\n",
       "      <td>86.00</td>\n",
       "    </tr>\n",
       "    <tr>\n",
       "      <th>55</th>\n",
       "      <td>Strip District</td>\n",
       "      <td>87.25</td>\n",
       "    </tr>\n",
       "    <tr>\n",
       "      <th>58</th>\n",
       "      <td>Polish Hill</td>\n",
       "      <td>88.00</td>\n",
       "    </tr>\n",
       "    <tr>\n",
       "      <th>59</th>\n",
       "      <td>Lower Lawrenceville</td>\n",
       "      <td>91.00</td>\n",
       "    </tr>\n",
       "  </tbody>\n",
       "</table>\n",
       "</div>"
      ],
      "text/plain": [
       "           Neighborhood  Walk_Score\n",
       "56       Allegheny West       86.00\n",
       "57           Friendship       86.00\n",
       "55       Strip District       87.25\n",
       "58          Polish Hill       88.00\n",
       "59  Lower Lawrenceville       91.00"
      ]
     },
     "execution_count": 45,
     "metadata": {},
     "output_type": "execute_result"
    }
   ],
   "source": [
    "avgWalk.tail(5)"
   ]
  },
  {
   "cell_type": "markdown",
   "metadata": {},
   "source": [
    "## Walkability\n",
    "\n",
    "The data on this page is adapted from the Allegheny County walk scores database and Pittsburgh 2010 census track data both from WPRDC\n",
    "The walk scores came in a two collumn csv with census tracts and walk scores. i had to create a map function to translate those census tracts into neighborhoods using the 2010 census track data, and remove duplicates.\n",
    "\n",
    "from my data the top 5 neighborhoods are \n",
    "\n",
    "1. Lower Lawrenceville\n",
    "2. Polish Hill\n",
    "3. Strip District\n",
    "4. Friendship\n",
    "5. Allegheny West\n",
    "\n",
    "My favorite neighborhood is north oakland which takes the 8th place on our list."
   ]
  },
  {
   "cell_type": "code",
   "execution_count": 46,
   "metadata": {},
   "outputs": [],
   "source": [
    "avgWalk.to_csv('Jackson-ranking.csv')"
   ]
  },
  {
   "cell_type": "code",
   "execution_count": 49,
   "metadata": {},
   "outputs": [],
   "source": [
    "# writing list to a file for easier moving around\n",
    "with open(\"Jackson-ranking.csv\", \"w+\") as f:\n",
    "    f.write(\"RANK,NEIGHBORHOOD\\n\")\n",
    "    for index, value in avgWalk.sort_values('Walk_Score', ascending=False)['Neighborhood'].items():\n",
    "        f.write(f\"{60-index},{value}\\n\")\n",
    "\n"
   ]
  }
 ],
 "metadata": {
  "kernelspec": {
   "display_name": "Python 3",
   "language": "python",
   "name": "python3"
  },
  "language_info": {
   "codemirror_mode": {
    "name": "ipython",
    "version": 3
   },
   "file_extension": ".py",
   "mimetype": "text/x-python",
   "name": "python",
   "nbconvert_exporter": "python",
   "pygments_lexer": "ipython3",
   "version": "3.8.3"
  }
 },
 "nbformat": 4,
 "nbformat_minor": 4
}
